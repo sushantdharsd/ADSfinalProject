{
 "cells": [
  {
   "cell_type": "markdown",
   "metadata": {},
   "source": [
    "Part2\n",
    "Part 2 of the collaborative filtering model consists of training the model and validating the model\n"
   ]
  },
  {
   "cell_type": "markdown",
   "metadata": {},
   "source": [
    "Import packages"
   ]
  },
  {
   "cell_type": "code",
   "execution_count": 13,
   "metadata": {},
   "outputs": [],
   "source": [
    "#Making use of imports\n",
    "%matplotlib inline\n",
    "import math\n",
    "import pandas as pd\n",
    "import matplotlib.pyplot as plt\n",
    "from keras.callbacks import Callback, EarlyStopping, ModelCheckpoint\n",
    "from CFmodeldeep import CFModel"
   ]
  },
  {
   "cell_type": "markdown",
   "metadata": {},
   "source": [
    "Define constants"
   ]
  },
  {
   "cell_type": "code",
   "execution_count": 2,
   "metadata": {},
   "outputs": [],
   "source": [
    "#defining the constants\n",
    "RATINGS_CSV_FILE = 'ml1m_ratings.csv'\n",
    "MODEL_WEIGHTS_FILE = 'ml1m_weights.h5'\n",
    "K_FACTORS = 120\n",
    "RNG_SEED = 1446557"
   ]
  },
  {
   "cell_type": "code",
   "execution_count": 3,
   "metadata": {},
   "outputs": [],
   "source": [
    "#Reading the ratings.csv filer\n",
    "atings = pd.read_csv(RATINGS_CSV_FILE, \n",
    "                      sep='\\t', \n",
    "                      encoding='latin-1', \n",
    "                      usecols=['userid', 'movieid', 'user_emb_id', 'movie_emb_id', 'rating'])\n",
    "max_userid = ratings['userid'].drop_duplicates().max()\n",
    "max_movieid = ratings['movieid'].drop_duplicates().max()\n"
   ]
  },
  {
   "cell_type": "markdown",
   "metadata": {},
   "source": [
    "Create training set"
   ]
  },
  {
   "cell_type": "code",
   "execution_count": 4,
   "metadata": {},
   "outputs": [],
   "source": [
    "#shuffling the ratings make use of a constant defined as RNG_SEED\n",
    "shuffled_ratings = ratings.sample(frac=1., random_state=RNG_SEED)\n",
    "Users = shuffled_ratings['user_emb_id'].values\n",
    "\n",
    "Movies = shuffled_ratings['movie_emb_id'].values\n",
    "\n",
    "Ratings = shuffled_ratings['rating'].values\n"
   ]
  },
  {
   "cell_type": "code",
   "execution_count": 5,
   "metadata": {},
   "outputs": [
    {
     "name": "stderr",
     "output_type": "stream",
     "text": [
      "C:\\Users\\Romell\\Anaconda31\\CFmodeldeep.py:17: UserWarning: The `Merge` layer is deprecated and will be removed after 08/2017. Use instead layers from `keras.layers.merge`, e.g. `add`, `concatenate`, etc.\n",
      "  self.add(Merge([P, Q], mode='dot', dot_axes=1))\n"
     ]
    }
   ],
   "source": [
    "#Importing the model defined in Part 1 nof collaborative filtering\n",
    "model = CFModel(max_userid, max_movieid, K_FACTORS)\n",
    "model.compile(loss='mse', optimizer='adamax')     [1] [2]"
   ]
  },
  {
   "cell_type": "markdown",
   "metadata": {},
   "source": [
    "Train model"
   ]
  },
  {
   "cell_type": "code",
   "execution_count": 6,
   "metadata": {},
   "outputs": [
    {
     "name": "stdout",
     "output_type": "stream",
     "text": [
      "Train on 900188 samples, validate on 100021 samples\n",
      "Epoch 1/20\n",
      " - 612s - loss: 7.8857 - val_loss: 2.0696\n",
      "Epoch 2/20\n",
      " - 636s - loss: 1.3886 - val_loss: 1.0803\n",
      "Epoch 3/20\n",
      " - 618s - loss: 0.9713 - val_loss: 0.9210\n",
      "Epoch 4/20\n",
      " - 619s - loss: 0.8739 - val_loss: 0.8637\n",
      "Epoch 5/20\n",
      " - 619s - loss: 0.8278 - val_loss: 0.8326\n",
      "Epoch 6/20\n",
      " - 593s - loss: 0.7958 - val_loss: 0.8123\n",
      "Epoch 7/20\n",
      " - 610s - loss: 0.7705 - val_loss: 0.7955\n",
      "Epoch 8/20\n",
      " - 599s - loss: 0.7478 - val_loss: 0.7835\n",
      "Epoch 9/20\n",
      " - 608s - loss: 0.7250 - val_loss: 0.7738\n",
      "Epoch 10/20\n",
      " - 603s - loss: 0.7022 - val_loss: 0.7649\n",
      "Epoch 11/20\n",
      " - 601s - loss: 0.6788 - val_loss: 0.7573\n",
      "Epoch 12/20\n",
      " - 595s - loss: 0.6549 - val_loss: 0.7517\n",
      "Epoch 13/20\n",
      " - 553s - loss: 0.6305 - val_loss: 0.7484\n",
      "Epoch 14/20\n",
      " - 552s - loss: 0.6056 - val_loss: 0.7454\n",
      "Epoch 15/20\n",
      " - 567s - loss: 0.5808 - val_loss: 0.7460\n",
      "Epoch 16/20\n",
      " - 585s - loss: 0.5561 - val_loss: 0.7467\n"
     ]
    }
   ],
   "source": [
    "#Training the model making use of 900188 samples and making use of 16 epochs\n",
    "callbacks = [EarlyStopping('val_loss', patience=2), \n",
    "             ModelCheckpoint(MODEL_WEIGHTS_FILE, save_best_only=True)]\n",
    "history = model.fit([Users, Movies], Ratings, epochs=16, validation_split=.1, verbose=2, callbacks=callbacks)"
   ]
  },
  {
   "cell_type": "code",
   "execution_count": 9,
   "metadata": {},
   "outputs": [],
   "source": [
    "#Calculating the minimum value loss for the 16 epochs that are defined\n",
    "min_val_loss, idx = min((val, idx) for (idx, val) in enumerate(history.history['val_loss']))"
   ]
  },
  {
   "cell_type": "code",
   "execution_count": 12,
   "metadata": {},
   "outputs": [
    {
     "data": {
      "text/plain": [
       "0.7453784985580961"
      ]
     },
     "execution_count": 12,
     "metadata": {},
     "output_type": "execute_result"
    }
   ],
   "source": [
    "#displaying the minimum value loss\n",
    "min_val_loss"
   ]
  },
  {
   "cell_type": "markdown",
   "metadata": {},
   "source": [
    "#Drawbacks\n",
    "1)The model requires large number of users for increasing the accuracy of the model"
   ]
  },
  {
   "cell_type": "markdown",
   "metadata": {},
   "source": [
    "#References\n",
    "Optimizer\n",
    "1)https://keras.io/optimizers/\n",
    "Losses\n",
    "2)https://keras.io/losses/"
   ]
  },
  {
   "cell_type": "markdown",
   "metadata": {},
   "source": [
    "The text in the document by <Romell Segaran,Akshay Singh,Sushant Dhar> is licensed under CC BY 3.0 https://creativecommons.org/licenses/by/3.0/us/\n",
    "\n",
    "The code in the document by <Romell Segaran,Akshay Singh,Sushant Dhar> is licensed under the MIT License https://opensource.org/licenses/MIT\n",
    "\n"
   ]
  }
 ],
 "metadata": {
  "kernelspec": {
   "display_name": "Python 3",
   "language": "python",
   "name": "python3"
  },
  "language_info": {
   "codemirror_mode": {
    "name": "ipython",
    "version": 3
   },
   "file_extension": ".py",
   "mimetype": "text/x-python",
   "name": "python",
   "nbconvert_exporter": "python",
   "pygments_lexer": "ipython3",
   "version": "3.5.5"
  }
 },
 "nbformat": 4,
 "nbformat_minor": 2
}
