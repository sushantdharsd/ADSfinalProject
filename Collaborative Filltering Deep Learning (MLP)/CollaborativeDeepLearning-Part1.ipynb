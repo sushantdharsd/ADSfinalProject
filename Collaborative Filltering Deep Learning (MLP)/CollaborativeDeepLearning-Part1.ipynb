{
 "cells": [
  {
   "cell_type": "markdown",
   "metadata": {},
   "source": [
    "The collaborative filtering method conists of two parts\n",
    "Part1:Creating the model\n",
    "Part2:Training the model and then calculating the RMSE \n",
    "    \n",
    "Following is a demonstration of Part 1:"
   ]
  },
  {
   "cell_type": "code",
   "execution_count": 16,
   "metadata": {
    "collapsed": true
   },
   "outputs": [],
   "source": [
    "#Importing libraries\n",
    "import numpy as np\n",
    "import keras.backend as K\n",
    "import keras\n",
    "from keras.layers import Embedding, Reshape, Merge, Dropout, Dense\n",
    "from keras.models import Sequential\n",
    "\n"
   ]
  },
  {
   "cell_type": "code",
   "execution_count": 17,
   "metadata": {
    "collapsed": true
   },
   "outputs": [],
   "source": [
    "#CFModel\n",
    "#Making use of a Multi Layered Perceptron making use of keras layers\n",
    "#Making use of TensorFlow\n",
    "class CFModel(Sequential):                 [1] [2] [3] \n",
    "\n",
    "    def __init__(self, n_users, m_items, k_factors, **kwargs):\n",
    "        P = Sequential()\n",
    "        P.add(Embedding(n_users, k_factors, input_length=1))\n",
    "        P.add(Reshape((k_factors,)))\n",
    "        Q = Sequential()\n",
    "        Q.add(Embedding(m_items, k_factors, input_length=1))\n",
    "        Q.add(Reshape((k_factors,)))\n",
    "        super(CFModel, self).__init__(**kwargs)\n",
    "        self.add(Merge([P, Q], mode='dot', dot_axes=1))\n",
    "\n",
    "    def rate(self, user_id, item_id):\n",
    "        return self.predict([np.array([user_id]), np.array([item_id])])[0][0]\n",
    "#Deep Model class containing activation layers of relu and linear\n",
    "class DeepModel(Sequential):\n",
    "\n",
    "    def __init__(self, n_users, m_items, k_factors, p_dropout=0.1, **kwargs):\n",
    "        P = Sequential()\n",
    "        P.add(Embedding(n_users, k_factors, input_length=1))\n",
    "        P.add(Reshape((k_factors,)))\n",
    "        Q = Sequential()\n",
    "        Q.add(Embedding(m_items, k_factors, input_length=1))\n",
    "        Q.add(Reshape((k_factors,)))\n",
    "        super(DeepModel, self).__init__(**kwargs)\n",
    "        self.add(Merge([P, Q], mode='concat'))\n",
    "        self.add(Dropout(p_dropout))\n",
    "        self.add(Dense(k_factors, activation='relu'))\n",
    "        self.add(Dropout(p_dropout))\n",
    "        self.add(Dense(1, activation='linear'))\n",
    "\n",
    "    def rate(self, user_id, item_id):\n",
    "        return self.predict([np.array([user_id]), np.array([item_id])])[0][0]"
   ]
  },
  {
   "cell_type": "code",
   "execution_count": 1,
   "metadata": {},
   "outputs": [
    {
     "name": "stderr",
     "output_type": "stream",
     "text": [
      "c:\\users\\romell\\anaconda31\\envs\\tensorflow\\lib\\site-packages\\h5py\\__init__.py:36: FutureWarning: Conversion of the second argument of issubdtype from `float` to `np.floating` is deprecated. In future, it will be treated as `np.float64 == np.dtype(float).type`.\n",
      "  from ._conv import register_converters as _register_converters\n",
      "Using TensorFlow backend.\n"
     ]
    }
   ],
   "source": [
    "#importing the model described\n",
    "import pandas as pd\n",
    "from CFmodeldeep import CFModel"
   ]
  },
  {
   "cell_type": "code",
   "execution_count": 3,
   "metadata": {
    "collapsed": true
   },
   "outputs": [],
   "source": [
    "#defining the different constants\n",
    "RATINGS_CSV_FILE = 'ml1m_ratings.csv'\n",
    "USERS_CSV_FILE = 'ml1m_users.csv'\n",
    "MOVIES_CSV_FILE = 'ml1m_movies.csv'\n",
    "MODEL_WEIGHTS_FILE = 'ml1m_weights.h5'\n",
    "K_FACTORS = 120\n",
    "TEST_USER = 3000"
   ]
  },
  {
   "cell_type": "code",
   "execution_count": 5,
   "metadata": {
    "collapsed": true
   },
   "outputs": [],
   "source": [
    "# dropping the duplicate values\n",
    "ratings = pd.read_csv(RATINGS_CSV_FILE, sep='\\t', encoding='latin-1', usecols=['userid', 'movieid', 'rating'])\n",
    "max_userid = ratings['userid'].drop_duplicates().max()\n",
    "max_movieid = ratings['movieid'].drop_duplicates().max()\n"
   ]
  },
  {
   "cell_type": "code",
   "execution_count": 6,
   "metadata": {
    "collapsed": true
   },
   "outputs": [],
   "source": [
    "#Loading the users dataset\n",
    "users = pd.read_csv(USERS_CSV_FILE, sep='\\t', encoding='latin-1', usecols=['userid', 'gender', 'zipcode', 'age_desc', 'occ_desc'])\n"
   ]
  },
  {
   "cell_type": "code",
   "execution_count": 7,
   "metadata": {
    "collapsed": true
   },
   "outputs": [],
   "source": [
    "#Loading the movies dataset\n",
    "movies = pd.read_csv(MOVIES_CSV_FILE, sep='\\t', encoding='latin-1', usecols=['movieid', 'title', 'genre'])"
   ]
  },
  {
   "cell_type": "code",
   "execution_count": 8,
   "metadata": {},
   "outputs": [
    {
     "name": "stderr",
     "output_type": "stream",
     "text": [
      "C:\\Users\\Romell\\Anaconda31\\CFmodeldeep.py:17: UserWarning: The `Merge` layer is deprecated and will be removed after 08/2017. Use instead layers from `keras.layers.merge`, e.g. `add`, `concatenate`, etc.\n",
      "  self.add(Merge([P, Q], mode='dot', dot_axes=1))\n"
     ]
    }
   ],
   "source": [
    "#CFmodeldeep which is obtained from the python file\n",
    "trained_model = CFModel(max_userid, max_movieid, K_FACTORS)"
   ]
  },
  {
   "cell_type": "code",
   "execution_count": 9,
   "metadata": {
    "collapsed": true
   },
   "outputs": [],
   "source": [
    "#make use of h5py using the weights file\n",
    "trained_model.load_weights(MODEL_WEIGHTS_FILE)"
   ]
  },
  {
   "cell_type": "code",
   "execution_count": 10,
   "metadata": {},
   "outputs": [
    {
     "data": {
      "text/html": [
       "<div>\n",
       "<style scoped>\n",
       "    .dataframe tbody tr th:only-of-type {\n",
       "        vertical-align: middle;\n",
       "    }\n",
       "\n",
       "    .dataframe tbody tr th {\n",
       "        vertical-align: top;\n",
       "    }\n",
       "\n",
       "    .dataframe thead th {\n",
       "        text-align: right;\n",
       "    }\n",
       "</style>\n",
       "<table border=\"1\" class=\"dataframe\">\n",
       "  <thead>\n",
       "    <tr style=\"text-align: right;\">\n",
       "      <th></th>\n",
       "      <th>userid</th>\n",
       "      <th>gender</th>\n",
       "      <th>zipcode</th>\n",
       "      <th>age_desc</th>\n",
       "      <th>occ_desc</th>\n",
       "    </tr>\n",
       "  </thead>\n",
       "  <tbody>\n",
       "    <tr>\n",
       "      <th>2999</th>\n",
       "      <td>3000</td>\n",
       "      <td>M</td>\n",
       "      <td>55408</td>\n",
       "      <td>25-34</td>\n",
       "      <td>college/grad student</td>\n",
       "    </tr>\n",
       "  </tbody>\n",
       "</table>\n",
       "</div>"
      ],
      "text/plain": [
       "      userid gender zipcode age_desc              occ_desc\n",
       "2999    3000      M   55408    25-34  college/grad student"
      ]
     },
     "execution_count": 10,
     "metadata": {},
     "output_type": "execute_result"
    }
   ],
   "source": [
    "# checked for max userId (One User)\n",
    "users[users['userid'] == TEST_USER]"
   ]
  },
  {
   "cell_type": "code",
   "execution_count": 11,
   "metadata": {
    "collapsed": true
   },
   "outputs": [],
   "source": [
    "#Making use of the defination stated above and defining the parameters as userid and movieid of the test user\n",
    "def predict_rating(userid, movieid):\n",
    "    return trained_model.rate(userid - 1, movieid - 1)"
   ]
  },
  {
   "cell_type": "code",
   "execution_count": 12,
   "metadata": {},
   "outputs": [
    {
     "data": {
      "text/html": [
       "<div>\n",
       "<style scoped>\n",
       "    .dataframe tbody tr th:only-of-type {\n",
       "        vertical-align: middle;\n",
       "    }\n",
       "\n",
       "    .dataframe tbody tr th {\n",
       "        vertical-align: top;\n",
       "    }\n",
       "\n",
       "    .dataframe thead th {\n",
       "        text-align: right;\n",
       "    }\n",
       "</style>\n",
       "<table border=\"1\" class=\"dataframe\">\n",
       "  <thead>\n",
       "    <tr style=\"text-align: right;\">\n",
       "      <th></th>\n",
       "      <th>userid</th>\n",
       "      <th>movieid</th>\n",
       "      <th>rating</th>\n",
       "      <th>prediction</th>\n",
       "      <th>title</th>\n",
       "      <th>genre</th>\n",
       "    </tr>\n",
       "  </thead>\n",
       "  <tbody>\n",
       "    <tr>\n",
       "      <th>0</th>\n",
       "      <td>3000</td>\n",
       "      <td>590</td>\n",
       "      <td>5</td>\n",
       "      <td>3.560065</td>\n",
       "      <td>Dances with Wolves (1990)</td>\n",
       "      <td>Adventure|Drama|Western</td>\n",
       "    </tr>\n",
       "    <tr>\n",
       "      <th>1</th>\n",
       "      <td>3000</td>\n",
       "      <td>3552</td>\n",
       "      <td>5</td>\n",
       "      <td>3.770743</td>\n",
       "      <td>Caddyshack (1980)</td>\n",
       "      <td>Comedy</td>\n",
       "    </tr>\n",
       "    <tr>\n",
       "      <th>2</th>\n",
       "      <td>3000</td>\n",
       "      <td>2858</td>\n",
       "      <td>5</td>\n",
       "      <td>4.609284</td>\n",
       "      <td>American Beauty (1999)</td>\n",
       "      <td>Comedy|Drama</td>\n",
       "    </tr>\n",
       "    <tr>\n",
       "      <th>3</th>\n",
       "      <td>3000</td>\n",
       "      <td>3358</td>\n",
       "      <td>5</td>\n",
       "      <td>3.693714</td>\n",
       "      <td>Defending Your Life (1991)</td>\n",
       "      <td>Comedy|Romance</td>\n",
       "    </tr>\n",
       "    <tr>\n",
       "      <th>4</th>\n",
       "      <td>3000</td>\n",
       "      <td>2968</td>\n",
       "      <td>5</td>\n",
       "      <td>3.724358</td>\n",
       "      <td>Time Bandits (1981)</td>\n",
       "      <td>Adventure|Fantasy|Sci-Fi</td>\n",
       "    </tr>\n",
       "    <tr>\n",
       "      <th>5</th>\n",
       "      <td>3000</td>\n",
       "      <td>1307</td>\n",
       "      <td>5</td>\n",
       "      <td>3.907889</td>\n",
       "      <td>When Harry Met Sally... (1989)</td>\n",
       "      <td>Comedy|Romance</td>\n",
       "    </tr>\n",
       "    <tr>\n",
       "      <th>6</th>\n",
       "      <td>3000</td>\n",
       "      <td>144</td>\n",
       "      <td>5</td>\n",
       "      <td>3.282056</td>\n",
       "      <td>Brothers McMullen, The (1995)</td>\n",
       "      <td>Comedy</td>\n",
       "    </tr>\n",
       "    <tr>\n",
       "      <th>7</th>\n",
       "      <td>3000</td>\n",
       "      <td>1193</td>\n",
       "      <td>5</td>\n",
       "      <td>4.160789</td>\n",
       "      <td>One Flew Over the Cuckoo's Nest (1975)</td>\n",
       "      <td>Drama</td>\n",
       "    </tr>\n",
       "    <tr>\n",
       "      <th>8</th>\n",
       "      <td>3000</td>\n",
       "      <td>1265</td>\n",
       "      <td>5</td>\n",
       "      <td>4.434525</td>\n",
       "      <td>Groundhog Day (1993)</td>\n",
       "      <td>Comedy|Romance</td>\n",
       "    </tr>\n",
       "    <tr>\n",
       "      <th>9</th>\n",
       "      <td>3000</td>\n",
       "      <td>733</td>\n",
       "      <td>5</td>\n",
       "      <td>3.305580</td>\n",
       "      <td>Rock, The (1996)</td>\n",
       "      <td>Action|Adventure|Thriller</td>\n",
       "    </tr>\n",
       "  </tbody>\n",
       "</table>\n",
       "</div>"
      ],
      "text/plain": [
       "   userid  movieid  rating  prediction  \\\n",
       "0    3000      590       5    3.560065   \n",
       "1    3000     3552       5    3.770743   \n",
       "2    3000     2858       5    4.609284   \n",
       "3    3000     3358       5    3.693714   \n",
       "4    3000     2968       5    3.724358   \n",
       "5    3000     1307       5    3.907889   \n",
       "6    3000      144       5    3.282056   \n",
       "7    3000     1193       5    4.160789   \n",
       "8    3000     1265       5    4.434525   \n",
       "9    3000      733       5    3.305580   \n",
       "\n",
       "                                    title                      genre  \n",
       "0               Dances with Wolves (1990)    Adventure|Drama|Western  \n",
       "1                       Caddyshack (1980)                     Comedy  \n",
       "2                  American Beauty (1999)               Comedy|Drama  \n",
       "3              Defending Your Life (1991)             Comedy|Romance  \n",
       "4                     Time Bandits (1981)   Adventure|Fantasy|Sci-Fi  \n",
       "5          When Harry Met Sally... (1989)             Comedy|Romance  \n",
       "6           Brothers McMullen, The (1995)                     Comedy  \n",
       "7  One Flew Over the Cuckoo's Nest (1975)                      Drama  \n",
       "8                    Groundhog Day (1993)             Comedy|Romance  \n",
       "9                        Rock, The (1996)  Action|Adventure|Thriller  "
      ]
     },
     "execution_count": 12,
     "metadata": {},
     "output_type": "execute_result"
    }
   ],
   "source": [
    "#Recommendations for test user (Unsorted)\n",
    "user_ratings = ratings[ratings['userid'] == TEST_USER][['userid', 'movieid', 'rating']]\n",
    "user_ratings['prediction'] = user_ratings.apply(lambda x: predict_rating(TEST_USER, x['movieid']), axis=1)\n",
    "user_ratings.sort_values(by='rating', \n",
    "                         ascending=False).merge(movies, \n",
    "                                                on='movieid', \n",
    "                                                how='inner', \n",
    "                                                suffixes=['_u', '_m']).head(10)"
   ]
  },
  {
   "cell_type": "code",
   "execution_count": 13,
   "metadata": {},
   "outputs": [
    {
     "data": {
      "text/html": [
       "<div>\n",
       "<style scoped>\n",
       "    .dataframe tbody tr th:only-of-type {\n",
       "        vertical-align: middle;\n",
       "    }\n",
       "\n",
       "    .dataframe tbody tr th {\n",
       "        vertical-align: top;\n",
       "    }\n",
       "\n",
       "    .dataframe thead th {\n",
       "        text-align: right;\n",
       "    }\n",
       "</style>\n",
       "<table border=\"1\" class=\"dataframe\">\n",
       "  <thead>\n",
       "    <tr style=\"text-align: right;\">\n",
       "      <th></th>\n",
       "      <th>movieid</th>\n",
       "      <th>prediction</th>\n",
       "      <th>title</th>\n",
       "      <th>genre</th>\n",
       "    </tr>\n",
       "  </thead>\n",
       "  <tbody>\n",
       "    <tr>\n",
       "      <th>0</th>\n",
       "      <td>296</td>\n",
       "      <td>4.674262</td>\n",
       "      <td>Pulp Fiction (1994)</td>\n",
       "      <td>Crime|Drama</td>\n",
       "    </tr>\n",
       "    <tr>\n",
       "      <th>1</th>\n",
       "      <td>50</td>\n",
       "      <td>4.633973</td>\n",
       "      <td>Usual Suspects, The (1995)</td>\n",
       "      <td>Crime|Thriller</td>\n",
       "    </tr>\n",
       "    <tr>\n",
       "      <th>2</th>\n",
       "      <td>2959</td>\n",
       "      <td>4.633747</td>\n",
       "      <td>Fight Club (1999)</td>\n",
       "      <td>Drama</td>\n",
       "    </tr>\n",
       "    <tr>\n",
       "      <th>3</th>\n",
       "      <td>1394</td>\n",
       "      <td>4.558996</td>\n",
       "      <td>Raising Arizona (1987)</td>\n",
       "      <td>Comedy</td>\n",
       "    </tr>\n",
       "    <tr>\n",
       "      <th>4</th>\n",
       "      <td>318</td>\n",
       "      <td>4.551593</td>\n",
       "      <td>Shawshank Redemption, The (1994)</td>\n",
       "      <td>Drama</td>\n",
       "    </tr>\n",
       "    <tr>\n",
       "      <th>5</th>\n",
       "      <td>608</td>\n",
       "      <td>4.485023</td>\n",
       "      <td>Fargo (1996)</td>\n",
       "      <td>Crime|Drama|Thriller</td>\n",
       "    </tr>\n",
       "    <tr>\n",
       "      <th>6</th>\n",
       "      <td>1617</td>\n",
       "      <td>4.481786</td>\n",
       "      <td>L.A. Confidential (1997)</td>\n",
       "      <td>Crime|Film-Noir|Mystery|Thriller</td>\n",
       "    </tr>\n",
       "    <tr>\n",
       "      <th>7</th>\n",
       "      <td>3160</td>\n",
       "      <td>4.376641</td>\n",
       "      <td>Magnolia (1999)</td>\n",
       "      <td>Drama</td>\n",
       "    </tr>\n",
       "    <tr>\n",
       "      <th>8</th>\n",
       "      <td>1288</td>\n",
       "      <td>4.354255</td>\n",
       "      <td>This Is Spinal Tap (1984)</td>\n",
       "      <td>Comedy|Drama|Musical</td>\n",
       "    </tr>\n",
       "    <tr>\n",
       "      <th>9</th>\n",
       "      <td>1136</td>\n",
       "      <td>4.351563</td>\n",
       "      <td>Monty Python and the Holy Grail (1974)</td>\n",
       "      <td>Comedy</td>\n",
       "    </tr>\n",
       "  </tbody>\n",
       "</table>\n",
       "</div>"
      ],
      "text/plain": [
       "   movieid  prediction                                   title  \\\n",
       "0      296    4.674262                     Pulp Fiction (1994)   \n",
       "1       50    4.633973              Usual Suspects, The (1995)   \n",
       "2     2959    4.633747                       Fight Club (1999)   \n",
       "3     1394    4.558996                  Raising Arizona (1987)   \n",
       "4      318    4.551593        Shawshank Redemption, The (1994)   \n",
       "5      608    4.485023                            Fargo (1996)   \n",
       "6     1617    4.481786                L.A. Confidential (1997)   \n",
       "7     3160    4.376641                         Magnolia (1999)   \n",
       "8     1288    4.354255               This Is Spinal Tap (1984)   \n",
       "9     1136    4.351563  Monty Python and the Holy Grail (1974)   \n",
       "\n",
       "                              genre  \n",
       "0                       Crime|Drama  \n",
       "1                    Crime|Thriller  \n",
       "2                             Drama  \n",
       "3                            Comedy  \n",
       "4                             Drama  \n",
       "5              Crime|Drama|Thriller  \n",
       "6  Crime|Film-Noir|Mystery|Thriller  \n",
       "7                             Drama  \n",
       "8              Comedy|Drama|Musical  \n",
       "9                            Comedy  "
      ]
     },
     "execution_count": 13,
     "metadata": {},
     "output_type": "execute_result"
    }
   ],
   "source": [
    "\n",
    "#Making  use of the model deteming recommendations for a user for (TEST USER)\n",
    "recommendations = ratings[ratings['movieid'].isin(user_ratings['movieid']) == False][['movieid']].drop_duplicates()\n",
    "recommendations['prediction'] = recommendations.apply(lambda x: predict_rating(TEST_USER, x['movieid']), axis=1)\n",
    "recommendations.sort_values(by='prediction',\n",
    "                          ascending=False).merge(movies,\n",
    "                                                 on='movieid',\n",
    "                                                 how='inner',\n",
    "                                                 suffixes=['_u', '_m']).head(10)"
   ]
  },
  {
   "cell_type": "markdown",
   "metadata": {},
   "source": [
    "#References\n",
    "Keras Layers\n",
    "1)https://keras.io/layers/about-keras-layers/\n",
    "Keras activation\n",
    "2)https://keras.io/activations/\n",
    "Keras Sequential Model\n",
    "3)https://keras.io/models/sequential/"
   ]
  },
  {
   "cell_type": "markdown",
   "metadata": {},
   "source": [
    "The text in the document by <Romell Segaran,Akshay Singh,Sushant Dhar> is licensed under CC BY 3.0 https://creativecommons.org/licenses/by/3.0/us/\n",
    "\n",
    "The code in the document by <Romell Segaran,Akshay Singh,Sushant Dhar> is licensed under the MIT License https://opensource.org/licenses/MIT"
   ]
  }
 ],
 "metadata": {
  "kernelspec": {
   "display_name": "Python 3",
   "language": "python",
   "name": "python3"
  },
  "language_info": {
   "codemirror_mode": {
    "name": "ipython",
    "version": 3
   },
   "file_extension": ".py",
   "mimetype": "text/x-python",
   "name": "python",
   "nbconvert_exporter": "python",
   "pygments_lexer": "ipython3",
   "version": "3.6.3"
  }
 },
 "nbformat": 4,
 "nbformat_minor": 2
}
